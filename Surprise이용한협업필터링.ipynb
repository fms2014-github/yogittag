{
 "cells": [
  {
   "cell_type": "code",
   "execution_count": 1,
   "metadata": {},
   "outputs": [],
   "source": [
    "import os\n",
    "import pandas as pd\n",
    "from surprise import Reader, Dataset"
   ]
  },
  {
   "cell_type": "code",
   "execution_count": 6,
   "metadata": {},
   "outputs": [],
   "source": [
    "DATA_DIR = os.getcwd()\n",
    "DUMP_FILE = os.path.join(DATA_DIR,'data','dump.pkl')"
   ]
  },
  {
   "cell_type": "code",
   "execution_count": 7,
   "metadata": {},
   "outputs": [],
   "source": [
    "def load_dataframes():\n",
    "    return pd.read_pickle(DUMP_FILE)"
   ]
  },
  {
   "cell_type": "code",
   "execution_count": 20,
   "metadata": {},
   "outputs": [],
   "source": [
    "df = load_dataframes()"
   ]
  },
  {
   "cell_type": "code",
   "execution_count": 21,
   "metadata": {},
   "outputs": [
    {
     "data": {
      "text/html": [
       "<div>\n",
       "<style scoped>\n",
       "    .dataframe tbody tr th:only-of-type {\n",
       "        vertical-align: middle;\n",
       "    }\n",
       "\n",
       "    .dataframe tbody tr th {\n",
       "        vertical-align: top;\n",
       "    }\n",
       "\n",
       "    .dataframe thead th {\n",
       "        text-align: right;\n",
       "    }\n",
       "</style>\n",
       "<table border=\"1\" class=\"dataframe\">\n",
       "  <thead>\n",
       "    <tr style=\"text-align: right;\">\n",
       "      <th></th>\n",
       "      <th>id</th>\n",
       "      <th>store</th>\n",
       "      <th>user</th>\n",
       "      <th>score</th>\n",
       "      <th>content</th>\n",
       "      <th>reg_time</th>\n",
       "    </tr>\n",
       "  </thead>\n",
       "  <tbody>\n",
       "    <tr>\n",
       "      <th>0</th>\n",
       "      <td>1</td>\n",
       "      <td>15</td>\n",
       "      <td>68632</td>\n",
       "      <td>5</td>\n",
       "      <td>전포 윗길에 새로 생긴! 호주에서 온 쉐프가 직접 요리하는 호주식 레스토랑!</td>\n",
       "      <td>1970-01-01 00:00:00</td>\n",
       "    </tr>\n",
       "    <tr>\n",
       "      <th>1</th>\n",
       "      <td>2</td>\n",
       "      <td>18</td>\n",
       "      <td>389728</td>\n",
       "      <td>5</td>\n",
       "      <td>샌드위치 내용물도 알차게 들어있고 맛있었어요 가성비 추천</td>\n",
       "      <td>1970-01-01 00:00:00</td>\n",
       "    </tr>\n",
       "    <tr>\n",
       "      <th>2</th>\n",
       "      <td>3</td>\n",
       "      <td>19</td>\n",
       "      <td>68716</td>\n",
       "      <td>4</td>\n",
       "      <td>홈플러스 1층 매장 푸드코트 내 있는 매장인데 계란찜정식은 처음보고 시켜봣는데 사진...</td>\n",
       "      <td>1970-01-01 00:00:00</td>\n",
       "    </tr>\n",
       "    <tr>\n",
       "      <th>3</th>\n",
       "      <td>4</td>\n",
       "      <td>37</td>\n",
       "      <td>774353</td>\n",
       "      <td>2</td>\n",
       "      <td>전 여기 5년전에 가봤었는데 그때 기억은 별로였어요\\n단체손님이 많았고, 차려지는건...</td>\n",
       "      <td>1970-01-01 00:00:00</td>\n",
       "    </tr>\n",
       "    <tr>\n",
       "      <th>4</th>\n",
       "      <td>5</td>\n",
       "      <td>38</td>\n",
       "      <td>115682</td>\n",
       "      <td>3</td>\n",
       "      <td>친구들끼리 술 간단하게마시러 감. 스끼다시 괜찮지만 회 양이 조금 부족한 느낌. 맛...</td>\n",
       "      <td>2019-03-15 22:16:47</td>\n",
       "    </tr>\n",
       "  </tbody>\n",
       "</table>\n",
       "</div>"
      ],
      "text/plain": [
       "   id  store    user  score  \\\n",
       "0   1     15   68632      5   \n",
       "1   2     18  389728      5   \n",
       "2   3     19   68716      4   \n",
       "3   4     37  774353      2   \n",
       "4   5     38  115682      3   \n",
       "\n",
       "                                             content             reg_time  \n",
       "0         전포 윗길에 새로 생긴! 호주에서 온 쉐프가 직접 요리하는 호주식 레스토랑!  1970-01-01 00:00:00  \n",
       "1                    샌드위치 내용물도 알차게 들어있고 맛있었어요 가성비 추천  1970-01-01 00:00:00  \n",
       "2  홈플러스 1층 매장 푸드코트 내 있는 매장인데 계란찜정식은 처음보고 시켜봣는데 사진...  1970-01-01 00:00:00  \n",
       "3  전 여기 5년전에 가봤었는데 그때 기억은 별로였어요\\n단체손님이 많았고, 차려지는건...  1970-01-01 00:00:00  \n",
       "4  친구들끼리 술 간단하게마시러 감. 스끼다시 괜찮지만 회 양이 조금 부족한 느낌. 맛...  2019-03-15 22:16:47  "
      ]
     },
     "execution_count": 21,
     "metadata": {},
     "output_type": "execute_result"
    }
   ],
   "source": [
    "reviews = df['reviews']\n",
    "reviews.head()"
   ]
  },
  {
   "cell_type": "code",
   "execution_count": 22,
   "metadata": {},
   "outputs": [],
   "source": [
    "reviews=reviews.drop(columns=['content','reg_time'])"
   ]
  },
  {
   "cell_type": "code",
   "execution_count": 23,
   "metadata": {},
   "outputs": [
    {
     "data": {
      "text/html": [
       "<div>\n",
       "<style scoped>\n",
       "    .dataframe tbody tr th:only-of-type {\n",
       "        vertical-align: middle;\n",
       "    }\n",
       "\n",
       "    .dataframe tbody tr th {\n",
       "        vertical-align: top;\n",
       "    }\n",
       "\n",
       "    .dataframe thead th {\n",
       "        text-align: right;\n",
       "    }\n",
       "</style>\n",
       "<table border=\"1\" class=\"dataframe\">\n",
       "  <thead>\n",
       "    <tr style=\"text-align: right;\">\n",
       "      <th></th>\n",
       "      <th>id</th>\n",
       "      <th>store</th>\n",
       "      <th>user</th>\n",
       "      <th>score</th>\n",
       "    </tr>\n",
       "  </thead>\n",
       "  <tbody>\n",
       "    <tr>\n",
       "      <th>0</th>\n",
       "      <td>1</td>\n",
       "      <td>15</td>\n",
       "      <td>68632</td>\n",
       "      <td>5</td>\n",
       "    </tr>\n",
       "    <tr>\n",
       "      <th>1</th>\n",
       "      <td>2</td>\n",
       "      <td>18</td>\n",
       "      <td>389728</td>\n",
       "      <td>5</td>\n",
       "    </tr>\n",
       "    <tr>\n",
       "      <th>2</th>\n",
       "      <td>3</td>\n",
       "      <td>19</td>\n",
       "      <td>68716</td>\n",
       "      <td>4</td>\n",
       "    </tr>\n",
       "    <tr>\n",
       "      <th>3</th>\n",
       "      <td>4</td>\n",
       "      <td>37</td>\n",
       "      <td>774353</td>\n",
       "      <td>2</td>\n",
       "    </tr>\n",
       "    <tr>\n",
       "      <th>4</th>\n",
       "      <td>5</td>\n",
       "      <td>38</td>\n",
       "      <td>115682</td>\n",
       "      <td>3</td>\n",
       "    </tr>\n",
       "  </tbody>\n",
       "</table>\n",
       "</div>"
      ],
      "text/plain": [
       "   id  store    user  score\n",
       "0   1     15   68632      5\n",
       "1   2     18  389728      5\n",
       "2   3     19   68716      4\n",
       "3   4     37  774353      2\n",
       "4   5     38  115682      3"
      ]
     },
     "execution_count": 23,
     "metadata": {},
     "output_type": "execute_result"
    }
   ],
   "source": [
    "reviews.head()"
   ]
  },
  {
   "cell_type": "markdown",
   "metadata": {},
   "source": [
    "데이터는 준비해둠 (reviews)\n",
    "\n",
    "Scale만 지정해주고, 필요한 칼럼만 설정해주면 전부다"
   ]
  },
  {
   "cell_type": "code",
   "execution_count": 24,
   "metadata": {},
   "outputs": [],
   "source": [
    "reader = Reader(rating_scale=(0.5,5.0))\n",
    "data=Dataset.load_from_df(reviews[['id','store','score']], reader)"
   ]
  },
  {
   "cell_type": "code",
   "execution_count": 25,
   "metadata": {},
   "outputs": [
    {
     "data": {
      "text/plain": [
       "surprise.dataset.DatasetAutoFolds"
      ]
     },
     "execution_count": 25,
     "metadata": {},
     "output_type": "execute_result"
    }
   ],
   "source": [
    "type(data)"
   ]
  },
  {
   "cell_type": "markdown",
   "metadata": {},
   "source": [
    "#### k-fold를 10로 나누고, 제일높게 나온 알고리즘을 확인해보자"
   ]
  },
  {
   "cell_type": "code",
   "execution_count": 31,
   "metadata": {},
   "outputs": [
    {
     "name": "stdout",
     "output_type": "stream",
     "text": [
      "Evaluating RMSE, MAE of algorithm SVD on 10 split(s).\n",
      "\n",
      "                  Fold 1  Fold 2  Fold 3  Fold 4  Fold 5  Fold 6  Fold 7  Fold 8  Fold 9  Fold 10 Mean    Std     \n",
      "RMSE (testset)    1.1035  1.1102  1.0886  1.1053  1.1097  1.1001  1.0916  1.0985  1.0920  1.1019  1.1001  0.0071  \n",
      "MAE (testset)     0.8589  0.8542  0.8439  0.8595  0.8600  0.8531  0.8479  0.8506  0.8486  0.8493  0.8526  0.0052  \n",
      "Fit time          4.92    4.92    5.86    5.42    4.50    4.46    5.50    4.25    5.83    5.22    5.09    0.54    \n",
      "Test time         0.08    0.05    0.05    0.08    0.05    0.08    0.05    0.05    0.05    0.08    0.06    0.02    \n"
     ]
    },
    {
     "data": {
      "text/plain": [
       "\"# nmf\\nalgo = NMF()\\n#evaluate(algo, data, measures=['RMSE'])\\ncross_validate(algo, data, measures=['RMSE', 'MAE'], cv=5, verbose=True)\\n\\n# knn\\nalgo = KNNBasic()\\n#evaluate(algo, data, measures=['RMSE'])\\ncross_validate(algo, data, measures=['RMSE', 'MAE'], cv=5, verbose=True)\""
      ]
     },
     "execution_count": 31,
     "metadata": {},
     "output_type": "execute_result"
    }
   ],
   "source": [
    "# split data into 5 folds\n",
    "#data.split(n_folds=5)\n",
    "\n",
    "from surprise import SVD\n",
    "from surprise import NMF\n",
    "from surprise import KNNBasic\n",
    "from surprise.model_selection import cross_validate\n",
    "\n",
    "# svd\n",
    "algo = SVD()\n",
    "#evaluate(algo, data, measures=['RMSE'])\n",
    "cross_validate(algo, data, measures=['RMSE', 'MAE'], cv=10, verbose=True)\n",
    "\n",
    "'''# nmf\n",
    "algo = NMF()\n",
    "#evaluate(algo, data, measures=['RMSE'])\n",
    "cross_validate(algo, data, measures=['RMSE', 'MAE'], cv=5, verbose=True)\n",
    "\n",
    "# knn\n",
    "algo = KNNBasic()\n",
    "#evaluate(algo, data, measures=['RMSE'])\n",
    "cross_validate(algo, data, measures=['RMSE', 'MAE'], cv=5, verbose=True)'''"
   ]
  },
  {
   "cell_type": "code",
   "execution_count": 32,
   "metadata": {},
   "outputs": [
    {
     "name": "stdout",
     "output_type": "stream",
     "text": [
      "Computing the msd similarity matrix...\n",
      "Done computing similarity matrix.\n",
      "Computing the msd similarity matrix...\n",
      "Done computing similarity matrix.\n",
      "Computing the msd similarity matrix...\n",
      "Done computing similarity matrix.\n",
      "Computing the msd similarity matrix...\n",
      "Done computing similarity matrix.\n",
      "Computing the msd similarity matrix...\n",
      "Done computing similarity matrix.\n",
      "Computing the msd similarity matrix...\n",
      "Done computing similarity matrix.\n",
      "Computing the msd similarity matrix...\n",
      "Done computing similarity matrix.\n",
      "Computing the msd similarity matrix...\n",
      "Done computing similarity matrix.\n",
      "Computing the msd similarity matrix...\n",
      "Done computing similarity matrix.\n",
      "Computing the msd similarity matrix...\n",
      "Done computing similarity matrix.\n",
      "Evaluating RMSE, MAE of algorithm KNNBasic on 10 split(s).\n",
      "\n",
      "                  Fold 1  Fold 2  Fold 3  Fold 4  Fold 5  Fold 6  Fold 7  Fold 8  Fold 9  Fold 10 Mean    Std     \n",
      "RMSE (testset)    1.1895  1.1999  1.2035  1.2008  1.1840  1.1956  1.1773  1.1747  1.1792  1.1914  1.1896  0.0099  \n",
      "MAE (testset)     0.8862  0.8965  0.8997  0.8974  0.8843  0.8996  0.8818  0.8811  0.8825  0.8970  0.8906  0.0076  \n",
      "Fit time          6.83    7.24    7.06    7.00    7.01    7.00    7.03    7.09    7.03    7.02    7.03    0.09    \n",
      "Test time         0.12    0.12    0.12    0.12    0.12    0.13    0.12    0.12    0.12    0.12    0.12    0.00    \n"
     ]
    },
    {
     "data": {
      "text/plain": [
       "{'test_rmse': array([1.18950403, 1.19986752, 1.20353333, 1.20082865, 1.18397414,\n",
       "        1.19556307, 1.17728514, 1.1747219 , 1.17923335, 1.19143716]),\n",
       " 'test_mae': array([0.88620876, 0.89651326, 0.89967154, 0.89736087, 0.88425274,\n",
       "        0.89960997, 0.88175029, 0.88108855, 0.88246388, 0.8969708 ]),\n",
       " 'fit_time': (6.828902959823608,\n",
       "  7.237061023712158,\n",
       "  7.063495874404907,\n",
       "  6.996703624725342,\n",
       "  7.008540153503418,\n",
       "  7.003770351409912,\n",
       "  7.029369831085205,\n",
       "  7.087965488433838,\n",
       "  7.034793138504028,\n",
       "  7.0217554569244385),\n",
       " 'test_time': (0.12099933624267578,\n",
       "  0.12206578254699707,\n",
       "  0.1180272102355957,\n",
       "  0.11800217628479004,\n",
       "  0.11603784561157227,\n",
       "  0.12703680992126465,\n",
       "  0.11701440811157227,\n",
       "  0.11599993705749512,\n",
       "  0.11599516868591309,\n",
       "  0.1160268783569336)}"
      ]
     },
     "execution_count": 32,
     "metadata": {},
     "output_type": "execute_result"
    }
   ],
   "source": [
    "algo = KNNBasic()\n",
    "#evaluate(algo, data, measures=['RMSE'])\n",
    "cross_validate(algo, data, measures=['RMSE', 'MAE'], cv=10, verbose=True)"
   ]
  },
  {
   "cell_type": "markdown",
   "metadata": {},
   "source": [
    "# 아니 여기서 협업필터링 어떻게 가져오는거임???"
   ]
  },
  {
   "cell_type": "code",
   "execution_count": null,
   "metadata": {},
   "outputs": [],
   "source": []
  }
 ],
 "metadata": {
  "kernelspec": {
   "display_name": "Python 3",
   "language": "python",
   "name": "python3"
  },
  "language_info": {
   "codemirror_mode": {
    "name": "ipython",
    "version": 3
   },
   "file_extension": ".py",
   "mimetype": "text/x-python",
   "name": "python",
   "nbconvert_exporter": "python",
   "pygments_lexer": "ipython3",
   "version": "3.6.8"
  }
 },
 "nbformat": 4,
 "nbformat_minor": 4
}
